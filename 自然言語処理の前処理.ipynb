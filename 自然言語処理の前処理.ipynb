{
  "nbformat": 4,
  "nbformat_minor": 0,
  "metadata": {
    "colab": {
      "name": "自然言語処理の前処理.ipynb",
      "provenance": [],
      "collapsed_sections": [],
      "toc_visible": true
    },
    "kernelspec": {
      "name": "python3",
      "display_name": "Python 3"
    },
    "language_info": {
      "name": "python"
    }
  },
  "cells": [
    {
      "cell_type": "code",
      "metadata": {
        "id": "feEgMatltfgt"
      },
      "source": [
        "##データの準備"
      ],
      "execution_count": 6,
      "outputs": []
    },
    {
      "cell_type": "code",
      "metadata": {
        "id": "Q-4MWXkDuAHo"
      },
      "source": [
        "import numpy as np\n",
        "import pandas as pd\n",
        "import matplotlib.pyplot as plt"
      ],
      "execution_count": 7,
      "outputs": []
    },
    {
      "cell_type": "code",
      "metadata": {
        "id": "N61NOoPpuGDU"
      },
      "source": [
        "import warnings\n",
        "warnings.filterwarnings('ignore')"
      ],
      "execution_count": 8,
      "outputs": []
    },
    {
      "cell_type": "code",
      "metadata": {
        "id": "9BU473YluaOq",
        "colab": {
          "base_uri": "https://localhost:8080/"
        },
        "outputId": "dc836d01-3e6c-4197-f854-18d3796d435b"
      },
      "source": [
        "filepath = 'sample.txt'\n",
        "\n",
        "with open(filepath,encoding='utf-8') as f:\n",
        "    text = f.readlines()\n",
        "  \n",
        "text"
      ],
      "execution_count": 9,
      "outputs": [
        {
          "output_type": "execute_result",
          "data": {
            "text/plain": [
              "['http://news.livedoor.com/article/detail/6507397/\\n',\n",
              " '2012-04-26T16:55:00+0900\\n',\n",
              " 'あのアプリもこのアプリも欲しい！そんなよくばりさんにオススメ！沢山のアプリがギュッと入った「200+ in 1 : AppBundle!」【iPhoneアプリ】\\n',\n",
              " 'アプリが豊富すぎて迷っちゃう！ \\n',\n",
              " '\\n',\n",
              " 'App Storeにはゲーム、ビジネス、旅行など数えきれないほどのアプリケーションがありますよね。\\n',\n",
              " 'あのアプリも、このアプリも気になってどんどんダウンロードすると、iPhoneの画面がアイコンだらけになってしまいますよね…。\\n',\n",
              " '\\n',\n",
              " '今回紹介する「200+ in 1 : AppBundle!」は1つのアプリですが、アプリを起動してみると「Utilities」、「Games」、「Camera」、「Entertainment」のカテゴリ分けされたアプリがと〜ってもたくさん収録されているんです！\\n',\n",
              " '\\n',\n",
              " 'ちょっとした暇つぶしゲームからあると便利なアプリ、カメラなどがギュッと詰まっているのでなんだかお得感がありますよ♪\\n',\n",
              " '\\n',\n",
              " 'では、早速紹介していきたいと思います！「Utilities」、「Games」、「Camera」、「Entertainment」の4つのカテゴリに分かれた豊富なアプリの中から用途に応じて必要なアプリを起動することができます。\\n',\n",
              " '\\n',\n",
              " 'TOP画面は時計、日付、バッテリー残量が表示され、中段上のアプリアイコンは使用したアプリ履歴が表示され、画面中央「Tap Here To Add Your Favorites」部分をタップしてお気に入りのアプリをこの位置に登録することができるので頻繁に使うアプリを配置することができます。\\n',\n",
              " '画面下にはFacebook、Twitter、SHARE（Facebook、Twitter、メール、SMS）での共有、SUPPORT（英語表記になってますが…）、MORE（他のアプリ紹介）の項目があります。\\n',\n",
              " 'SUPPORTではFAQも記載してありますが、全て英語になっているのでご注意ください…。\\n',\n",
              " '\\n',\n",
              " 'アプリ起動時画面で「ENTER」をタップするとアプリ一覧が表示されます。\\n',\n",
              " '\\n',\n",
              " '「Utilities」にはAlarm Clock、Video Safe、Tip Calculator、Massager、Voice Boxなどなど125種類のアプリが収録されています。\\n',\n",
              " '\\n',\n",
              " 'Utilities一覧\\u30001〜3画面\\n',\n",
              " '\\n',\n",
              " '\\n',\n",
              " 'Utilities一覧\\u30004〜6画面\\n',\n",
              " '\\n',\n",
              " '\\n',\n",
              " 'Utilities一覧\\u30007〜9画面\\n',\n",
              " '\\n',\n",
              " '「Games」にはHungry Animals、Bubble Crusherなど15種類\\n',\n",
              " '「Camera」にはNight Vision、Protractor With Cameraなど18種類が収録されています。\\n',\n",
              " '\\n',\n",
              " 'Game一覧（左）、Camera一覧（中央・右）\\n',\n",
              " '\\n',\n",
              " '「Entertainment」には、Fake Miss Call、Finger Scanner Security - Fun、Air Hornなど42種類が収録されています。\\n',\n",
              " '\\n',\n",
              " 'Entertainment一覧\\n',\n",
              " '\\n',\n",
              " 'アプリ一覧の表示方法は4種類あり、画面の上部にある目のようなアイコンをタップして変更できます。\\n',\n",
              " 'アイコンとアプリ名を表示するもの、カテゴリ別に表示するものとあるので探しやすい表示方法を選ぶことができるようになっています。\\n',\n",
              " '\\n',\n",
              " '  \\n',\n",
              " '\\n',\n",
              " '\\n',\n",
              " '  \\n',\n",
              " '\\n',\n",
              " '\\n',\n",
              " '設定は画面の歯車アイコンからでき、アプリ名の表示ON／OFFや効果音のON／OFFなどの設定、背景は6種類から選べるようになっています。\\n',\n",
              " '\\n',\n",
              " '  \\n',\n",
              " '\\n',\n",
              " '\\n',\n",
              " 'アプリの数が多すぎて全てを紹介するのが難しいですが…。\\n',\n",
              " 'ボイスチェンジャーは声を録音して6種類あるアイコンをタップすると声が変わっておもしろいですよ！\\n',\n",
              " '他にもちょっと暇つぶし的なゲームもあるので楽しく遊ぶこともできますよ。\\n',\n",
              " '\\n',\n",
              " '  \\n',\n",
              " 'ボイスチェンジャー（左）、パスコードロック（右）\\n',\n",
              " '\\n',\n",
              " '1つのアプリにとってもたくさんのアプリが収録されているのでなんか得した気分になれちゃいます♪\\n',\n",
              " '\\n',\n",
              " '記事執筆：にゃんこ\\n',\n",
              " '\\n',\n",
              " 'アプリ名：200+ in 1 : AppBundle!\\n',\n",
              " '価格：85円\\n',\n",
              " 'カテゴリ：ユーティリティ\\n',\n",
              " '開発者：RV AppStudios LLC\\n',\n",
              " 'バージョン：4.2\\n',\n",
              " '条件：iPhone、iPod touch および iPad 互換iOS 3.0 以降が必要\\n',\n",
              " 'iTunes Store：http://itunes.apple.com/jp/app/id340181305?mt=8\\n',\n",
              " '\\n',\n",
              " '\\n',\n",
              " '\\n',\n",
              " '\\n',\n",
              " '\\n',\n",
              " '■関連リンク\\n',\n",
              " '・エスマックス（S-MAX）\\n',\n",
              " '・エスマックス（S-MAX） smaxjp on Twitter\\n']"
            ]
          },
          "metadata": {
            "tags": []
          },
          "execution_count": 9
        }
      ]
    },
    {
      "cell_type": "code",
      "metadata": {
        "colab": {
          "base_uri": "https://localhost:8080/",
          "height": 205
        },
        "id": "v61ACXakvZir",
        "outputId": "7ede6b62-1ee5-4318-f122-03ea0dd95505"
      },
      "source": [
        "text = ' '.join(text[2:])\n",
        "text"
      ],
      "execution_count": 10,
      "outputs": [
        {
          "output_type": "execute_result",
          "data": {
            "application/vnd.google.colaboratory.intrinsic+json": {
              "type": "string"
            },
            "text/plain": [
              "'あのアプリもこのアプリも欲しい！そんなよくばりさんにオススメ！沢山のアプリがギュッと入った「200+ in 1 : AppBundle!」【iPhoneアプリ】\\n アプリが豊富すぎて迷っちゃう！ \\n \\n App Storeにはゲーム、ビジネス、旅行など数えきれないほどのアプリケーションがありますよね。\\n あのアプリも、このアプリも気になってどんどんダウンロードすると、iPhoneの画面がアイコンだらけになってしまいますよね…。\\n \\n 今回紹介する「200+ in 1 : AppBundle!」は1つのアプリですが、アプリを起動してみると「Utilities」、「Games」、「Camera」、「Entertainment」のカテゴリ分けされたアプリがと〜ってもたくさん収録されているんです！\\n \\n ちょっとした暇つぶしゲームからあると便利なアプリ、カメラなどがギュッと詰まっているのでなんだかお得感がありますよ♪\\n \\n では、早速紹介していきたいと思います！「Utilities」、「Games」、「Camera」、「Entertainment」の4つのカテゴリに分かれた豊富なアプリの中から用途に応じて必要なアプリを起動することができます。\\n \\n TOP画面は時計、日付、バッテリー残量が表示され、中段上のアプリアイコンは使用したアプリ履歴が表示され、画面中央「Tap Here To Add Your Favorites」部分をタップしてお気に入りのアプリをこの位置に登録することができるので頻繁に使うアプリを配置することができます。\\n 画面下にはFacebook、Twitter、SHARE（Facebook、Twitter、メール、SMS）での共有、SUPPORT（英語表記になってますが…）、MORE（他のアプリ紹介）の項目があります。\\n SUPPORTではFAQも記載してありますが、全て英語になっているのでご注意ください…。\\n \\n アプリ起動時画面で「ENTER」をタップするとアプリ一覧が表示されます。\\n \\n 「Utilities」にはAlarm Clock、Video Safe、Tip Calculator、Massager、Voice Boxなどなど125種類のアプリが収録されています。\\n \\n Utilities一覧\\u30001〜3画面\\n \\n \\n Utilities一覧\\u30004〜6画面\\n \\n \\n Utilities一覧\\u30007〜9画面\\n \\n 「Games」にはHungry Animals、Bubble Crusherなど15種類\\n 「Camera」にはNight Vision、Protractor With Cameraなど18種類が収録されています。\\n \\n Game一覧（左）、Camera一覧（中央・右）\\n \\n 「Entertainment」には、Fake Miss Call、Finger Scanner Security - Fun、Air Hornなど42種類が収録されています。\\n \\n Entertainment一覧\\n \\n アプリ一覧の表示方法は4種類あり、画面の上部にある目のようなアイコンをタップして変更できます。\\n アイコンとアプリ名を表示するもの、カテゴリ別に表示するものとあるので探しやすい表示方法を選ぶことができるようになっています。\\n \\n   \\n \\n \\n   \\n \\n \\n 設定は画面の歯車アイコンからでき、アプリ名の表示ON／OFFや効果音のON／OFFなどの設定、背景は6種類から選べるようになっています。\\n \\n   \\n \\n \\n アプリの数が多すぎて全てを紹介するのが難しいですが…。\\n ボイスチェンジャーは声を録音して6種類あるアイコンをタップすると声が変わっておもしろいですよ！\\n 他にもちょっと暇つぶし的なゲームもあるので楽しく遊ぶこともできますよ。\\n \\n   \\n ボイスチェンジャー（左）、パスコードロック（右）\\n \\n 1つのアプリにとってもたくさんのアプリが収録されているのでなんか得した気分になれちゃいます♪\\n \\n 記事執筆：にゃんこ\\n \\n アプリ名：200+ in 1 : AppBundle!\\n 価格：85円\\n カテゴリ：ユーティリティ\\n 開発者：RV AppStudios LLC\\n バージョン：4.2\\n 条件：iPhone、iPod touch および iPad 互換iOS 3.0 以降が必要\\n iTunes Store：http://itunes.apple.com/jp/app/id340181305?mt=8\\n \\n \\n \\n \\n \\n ■関連リンク\\n ・エスマックス（S-MAX）\\n ・エスマックス（S-MAX） smaxjp on Twitter\\n'"
            ]
          },
          "metadata": {
            "tags": []
          },
          "execution_count": 10
        }
      ]
    },
    {
      "cell_type": "code",
      "metadata": {
        "id": "iFHgURAF9ZKn"
      },
      "source": [
        "import re\n",
        "\n",
        "text = re.sub('\\n','',text)\n",
        "text = re.sub('\\u3000','',text)"
      ],
      "execution_count": 13,
      "outputs": []
    },
    {
      "cell_type": "code",
      "metadata": {
        "colab": {
          "base_uri": "https://localhost:8080/",
          "height": 205
        },
        "id": "7ByaKEpnHD0L",
        "outputId": "b4b57668-6469-477b-9cee-5d9fedbbd7a7"
      },
      "source": [
        "text"
      ],
      "execution_count": 14,
      "outputs": [
        {
          "output_type": "execute_result",
          "data": {
            "application/vnd.google.colaboratory.intrinsic+json": {
              "type": "string"
            },
            "text/plain": [
              "'あのアプリもこのアプリも欲しい！そんなよくばりさんにオススメ！沢山のアプリがギュッと入った「200+ in 1 : AppBundle!」【iPhoneアプリ】 アプリが豊富すぎて迷っちゃう！   App Storeにはゲーム、ビジネス、旅行など数えきれないほどのアプリケーションがありますよね。 あのアプリも、このアプリも気になってどんどんダウンロードすると、iPhoneの画面がアイコンだらけになってしまいますよね…。  今回紹介する「200+ in 1 : AppBundle!」は1つのアプリですが、アプリを起動してみると「Utilities」、「Games」、「Camera」、「Entertainment」のカテゴリ分けされたアプリがと〜ってもたくさん収録されているんです！  ちょっとした暇つぶしゲームからあると便利なアプリ、カメラなどがギュッと詰まっているのでなんだかお得感がありますよ♪  では、早速紹介していきたいと思います！「Utilities」、「Games」、「Camera」、「Entertainment」の4つのカテゴリに分かれた豊富なアプリの中から用途に応じて必要なアプリを起動することができます。  TOP画面は時計、日付、バッテリー残量が表示され、中段上のアプリアイコンは使用したアプリ履歴が表示され、画面中央「Tap Here To Add Your Favorites」部分をタップしてお気に入りのアプリをこの位置に登録することができるので頻繁に使うアプリを配置することができます。 画面下にはFacebook、Twitter、SHARE（Facebook、Twitter、メール、SMS）での共有、SUPPORT（英語表記になってますが…）、MORE（他のアプリ紹介）の項目があります。 SUPPORTではFAQも記載してありますが、全て英語になっているのでご注意ください…。  アプリ起動時画面で「ENTER」をタップするとアプリ一覧が表示されます。  「Utilities」にはAlarm Clock、Video Safe、Tip Calculator、Massager、Voice Boxなどなど125種類のアプリが収録されています。  Utilities一覧1〜3画面   Utilities一覧4〜6画面   Utilities一覧7〜9画面  「Games」にはHungry Animals、Bubble Crusherなど15種類 「Camera」にはNight Vision、Protractor With Cameraなど18種類が収録されています。  Game一覧（左）、Camera一覧（中央・右）  「Entertainment」には、Fake Miss Call、Finger Scanner Security - Fun、Air Hornなど42種類が収録されています。  Entertainment一覧  アプリ一覧の表示方法は4種類あり、画面の上部にある目のようなアイコンをタップして変更できます。 アイコンとアプリ名を表示するもの、カテゴリ別に表示するものとあるので探しやすい表示方法を選ぶことができるようになっています。            設定は画面の歯車アイコンからでき、アプリ名の表示ON／OFFや効果音のON／OFFなどの設定、背景は6種類から選べるようになっています。       アプリの数が多すぎて全てを紹介するのが難しいですが…。 ボイスチェンジャーは声を録音して6種類あるアイコンをタップすると声が変わっておもしろいですよ！ 他にもちょっと暇つぶし的なゲームもあるので楽しく遊ぶこともできますよ。     ボイスチェンジャー（左）、パスコードロック（右）  1つのアプリにとってもたくさんのアプリが収録されているのでなんか得した気分になれちゃいます♪  記事執筆：にゃんこ  アプリ名：200+ in 1 : AppBundle! 価格：85円 カテゴリ：ユーティリティ 開発者：RV AppStudios LLC バージョン：4.2 条件：iPhone、iPod touch および iPad 互換iOS 3.0 以降が必要 iTunes Store：http://itunes.apple.com/jp/app/id340181305?mt=8      ■関連リンク ・エスマックス（S-MAX） ・エスマックス（S-MAX） smaxjp on Twitter'"
            ]
          },
          "metadata": {
            "tags": []
          },
          "execution_count": 14
        }
      ]
    },
    {
      "cell_type": "code",
      "metadata": {
        "id": "CUem3b4ZHHow"
      },
      "source": [
        ""
      ],
      "execution_count": null,
      "outputs": []
    }
  ]
}